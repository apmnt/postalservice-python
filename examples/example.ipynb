{
 "cells": [
  {
   "cell_type": "code",
   "execution_count": 12,
   "metadata": {},
   "outputs": [
    {
     "name": "stdout",
     "output_type": "stream",
     "text": [
      "status code:  200\n",
      "json:  {'items': [{'id': 'm17146122417', 'sellerId': '151792296', 'buyerId': '', 'status': 'ITEM_STATUS_ON_SALE', 'name': 'COMME des GARCONS HOMME PLUS カットソー', 'price': '9900', 'created': '1709119637', 'updated': '1709294052', 'thumbnails': ['https://static.mercdn.net/c!/w=240,f=webp/thumb/photos/m17146122417_1.jpg?1709119637'], 'itemType': 'ITEM_TYPE_MERCARI', 'itemConditionId': '3', 'shippingPayerId': '2', 'itemSizes': [{'id': '2', 'name': 'S'}], 'itemBrand': None, 'itemPromotions': [], 'shopName': '', 'itemSize': {'id': '2', 'name': 'S'}, 'shippingMethodId': '8', 'categoryId': '302'}, {'id': 'm56275464826', 'sellerId': '673947375', 'buyerId': '', 'status': 'ITEM_STATUS_ON_SALE', 'name': '3wayショットコート\\u3000M  美品', 'price': '8500', 'created': '1705745077', 'updated': '1709294029', 'thumbnails': ['https://static.mercdn.net/c!/w=240,f=webp/thumb/photos/m56275464826_1.jpg?1705745077'], 'itemType': 'ITEM_TYPE_MERCARI', 'itemConditionId': '2', 'shippingPayerId': '2', 'itemSizes': [{'id': '3', 'name': 'M'}], 'itemBrand': None, 'itemPromotions': [], 'shopName': '', 'itemSize': {'id': '3', 'name': 'M'}, 'shippingMethodId': '14', 'categoryId': '155'}, {'id': 'm90224937686', 'sellerId': '275228437', 'buyerId': '', 'status': 'ITEM_STATUS_ON_SALE', 'name': 'コムデギャルソンオムプリュス\\u3000メタリックカラーベルト', 'price': '6900', 'created': '1708415015', 'updated': '1709293981', 'thumbnails': ['https://static.mercdn.net/c!/w=240,f=webp/thumb/photos/m90224937686_1.jpg?1708415015'], 'itemType': 'ITEM_TYPE_MERCARI', 'itemConditionId': '4', 'shippingPayerId': '2', 'itemSizes': [], 'itemBrand': None, 'itemPromotions': [], 'shopName': '', 'itemSize': None, 'shippingMethodId': '14', 'categoryId': '394'}, {'id': 'm21920410261', 'sellerId': '208463216', 'buyerId': '', 'status': 'ITEM_STATUS_ON_SALE', 'name': '【COMME CA DU MODE】コムサデモード ダブルジャケット 毛100%', 'price': '1280', 'created': '1706078351', 'updated': '1709293980', 'thumbnails': ['https://static.mercdn.net/c!/w=240,f=webp/thumb/photos/m21920410261_1.jpg?1706078351'], 'itemType': 'ITEM_TYPE_MERCARI', 'itemConditionId': '3', 'shippingPayerId': '2', 'itemSizes': [{'id': '7', 'name': 'FREE SIZE'}], 'itemBrand': None, 'itemPromotions': [], 'shopName': '', 'itemSize': {'id': '7', 'name': 'FREE SIZE'}, 'shippingMethodId': '14', 'categoryId': '137'}, {'id': 'm86828067611', 'sellerId': '588426041', 'buyerId': '', 'status': 'ITEM_STATUS_ON_SALE', 'name': 'tricot COMME des GARCONS トリココムデギャルソンバッグ', 'price': '2990', 'created': '1709293925', 'updated': '1709293925', 'thumbnails': ['https://static.mercdn.net/c!/w=240,f=webp/thumb/photos/m86828067611_1.jpg?1709293925'], 'itemType': 'ITEM_TYPE_MERCARI', 'itemConditionId': '4', 'shippingPayerId': '2', 'itemSizes': [], 'itemBrand': None, 'itemPromotions': [], 'shopName': '', 'itemSize': None, 'shippingMethodId': '17', 'categoryId': '209'}, {'id': 'm45310507453', 'sellerId': '539879714', 'buyerId': '', 'status': 'ITEM_STATUS_ON_SALE', 'name': '【美品】コムデギャルソン オムドゥ\\u3000変形テーラードジャケット\\u3000ウール\\u3000薄手生地', 'price': '15980', 'created': '1700224919', 'updated': '1709293921', 'thumbnails': ['https://static.mercdn.net/c!/w=240,f=webp/thumb/photos/m45310507453_1.jpg?1700224919'], 'itemType': 'ITEM_TYPE_MERCARI', 'itemConditionId': '3', 'shippingPayerId': '2', 'itemSizes': [{'id': '4', 'name': 'L'}], 'itemBrand': None, 'itemPromotions': [], 'shopName': '', 'itemSize': {'id': '4', 'name': 'L'}, 'shippingMethodId': '14', 'categoryId': '314'}, {'id': 'm53081197139', 'sellerId': '588426041', 'buyerId': '', 'status': 'ITEM_STATUS_ON_SALE', 'name': 'steiffシュタイフ キャンバストートバッグ 未使用', 'price': '2800', 'created': '1709293916', 'updated': '1709293916', 'thumbnails': ['https://static.mercdn.net/c!/w=240,f=webp/thumb/photos/m53081197139_1.jpg?1709293916'], 'itemType': 'ITEM_TYPE_MERCARI', 'itemConditionId': '1', 'shippingPayerId': '2', 'itemSizes': [], 'itemBrand': None, 'itemPromotions': [], 'shopName': '', 'itemSize': None, 'shippingMethodId': '17', 'categoryId': '731'}, {'id': 'm28949904715', 'sellerId': '989322490', 'buyerId': '', 'status': 'ITEM_STATUS_ON_SALE', 'name': 'COMME des GARCONS ロングスカート 花柄 シルク100%', 'price': '9000', 'created': '1707291807', 'updated': '1709293913', 'thumbnails': ['https://static.mercdn.net/c!/w=240,f=webp/thumb/photos/m28949904715_1.jpg?1707291807'], 'itemType': 'ITEM_TYPE_MERCARI', 'itemConditionId': '4', 'shippingPayerId': '2', 'itemSizes': [{'id': '3', 'name': 'M'}], 'itemBrand': None, 'itemPromotions': [], 'shopName': '', 'itemSize': {'id': '3', 'name': 'M'}, 'shippingMethodId': '14', 'categoryId': '2114'}, {'id': 'm30317572007', 'sellerId': '633680923', 'buyerId': '', 'status': 'ITEM_STATUS_ON_SALE', 'name': 'OUTREACH  アウトリーチ ネルシャツ ライダースジャケット キルティング', 'price': '11300', 'created': '1705830957', 'updated': '1709293913', 'thumbnails': ['https://static.mercdn.net/c!/w=240,f=webp/thumb/photos/m30317572007_1.jpg?1705830957'], 'itemType': 'ITEM_TYPE_MERCARI', 'itemConditionId': '4', 'shippingPayerId': '2', 'itemSizes': [{'id': '3', 'name': 'M'}], 'itemBrand': None, 'itemPromotions': [], 'shopName': '', 'itemSize': {'id': '3', 'name': 'M'}, 'shippingMethodId': '14', 'categoryId': '319'}, {'id': 'm82743651995', 'sellerId': '588426041', 'buyerId': '', 'status': 'ITEM_STATUS_ON_SALE', 'name': 'steiffシュタイフ テディベア ポシェット 小タグ付き', 'price': '2000', 'created': '1709293907', 'updated': '1709293907', 'thumbnails': ['https://static.mercdn.net/c!/w=240,f=webp/thumb/photos/m82743651995_1.jpg?1709293907'], 'itemType': 'ITEM_TYPE_MERCARI', 'itemConditionId': '3', 'shippingPayerId': '2', 'itemSizes': [], 'itemBrand': None, 'itemPromotions': [], 'shopName': '', 'itemSize': None, 'shippingMethodId': '17', 'categoryId': '731'}], 'meta': {'nextPageToken': 'v1:1', 'previousPageToken': '', 'numFound': '15000'}, 'components': [], 'searchCondition': None}\n",
      "items count:  10\n",
      "num found:  15000\n"
     ]
    }
   ],
   "source": [
    "from postalservice import MercariService\n",
    "import asyncio\n",
    "\n",
    "ms = MercariService()\n",
    "res = await ms.fetch_data(\"comme des\")\n",
    "print(\"status code: \", res.status_code)\n",
    "rjson = res.json()\n",
    "print(\"json: \", rjson)\n",
    "print(\"items count: \", len(rjson[\"items\"]))\n",
    "print(\"num found: \", rjson[\"meta\"][\"numFound\"])"
   ]
  }
 ],
 "metadata": {
  "kernelspec": {
   "display_name": "Python 3",
   "language": "python",
   "name": "python3"
  },
  "language_info": {
   "codemirror_mode": {
    "name": "ipython",
    "version": 3
   },
   "file_extension": ".py",
   "mimetype": "text/x-python",
   "name": "python",
   "nbconvert_exporter": "python",
   "pygments_lexer": "ipython3",
   "version": "3.11.6"
  }
 },
 "nbformat": 4,
 "nbformat_minor": 2
}
