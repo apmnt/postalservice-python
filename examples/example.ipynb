{
 "cells": [
  {
   "cell_type": "markdown",
   "metadata": {},
   "source": [
    "# Example notebook\n",
    "\n",
    "## Import Required Libraries\n",
    "\n",
    "First, let's import the necessary libraries and services:"
   ]
  },
  {
   "cell_type": "code",
   "execution_count": null,
   "metadata": {},
   "outputs": [],
   "source": [
    "from postalservice import (\n",
    "    MercariService,\n",
    "    FrilService, \n",
    "    YJPService,\n",
    "    SecondStreetService,\n",
    "    KindalService,\n",
    "    RagtagService,\n",
    "    OkokuService,\n",
    "    TrefacService\n",
    ")"
   ]
  },
  {
   "cell_type": "markdown",
   "metadata": {},
   "source": [
    "## Basic Search Parameters\n",
    "\n",
    "Let's define the search parameters we'll use throughout this example:"
   ]
  },
  {
   "cell_type": "code",
   "execution_count": null,
   "metadata": {},
   "outputs": [],
   "source": [
    "# Define search parameters\n",
    "search_params = {\n",
    "    \"keyword\": \"junya watanabe\",  # Search term\n",
    "    \"item_count\": 10,              # Number of items to fetch\n",
    "}\n",
    "\n",
    "print(\"Search parameters configured!\")"
   ]
  },
  {
   "cell_type": "markdown",
   "metadata": {},
   "source": [
    "## Synchronous Item Fetching\n",
    "\n",
    "Each service provides a `get_search_results()` method that returns a list of items."
   ]
  },
  {
   "cell_type": "code",
   "execution_count": null,
   "metadata": {},
   "outputs": [],
   "source": [
    "print(\"=== Mercari Search Results ===\")\n",
    "try:\n",
    "    mercari_results = MercariService.get_search_results(params=search_params)\n",
    "\n",
    "    for i, item in enumerate(mercari_results, 1):\n",
    "        print(f\"{i}. {item['title']}\")\n",
    "        print(f\"   Price: ¥{item['price']}\")\n",
    "        print(f\"   Size: {item.get('size', 'N/A')}\")\n",
    "        print(f\"   Brand: {item.get('brand', 'N/A')}\")\n",
    "        print(f\"   URL: {item['url']}\")\n",
    "        print(f\"   Images: {len(item['img'])} available\")\n",
    "        print()\n",
    "        \n",
    "except Exception as e:\n",
    "    print(f\"Mercari search failed: {e}\")"
   ]
  },
  {
   "cell_type": "markdown",
   "metadata": {},
   "source": [
    "## Asynchronous Item Fetching\n",
    "\n",
    "For better performance when fetching from multiple services, you can use the asynchronous methods. These allow you to make concurrent requests."
   ]
  },
  {
   "cell_type": "code",
   "execution_count": null,
   "metadata": {},
   "outputs": [],
   "source": [
    "# Example 4: Asynchronous search from a single service\n",
    "async def fetch_mercari_async():\n",
    "    print(\"=== Mercari Async Search Results ===\")\n",
    "    try:\n",
    "        results = await MercariService.get_search_results_async(params=mercari_params)\n",
    "        \n",
    "        for i, item in enumerate(results, 1):\n",
    "            print(f\"{i}. {item['title']}\")\n",
    "            print(f\"   Price: ¥{item['price']}\")\n",
    "            print(f\"   Brand: {item.get('brand', 'N/A')}\")\n",
    "            print(f\"   URL: {item['url']}\")\n",
    "            print()\n",
    "            \n",
    "        return len(results)\n",
    "    except Exception as e:\n",
    "        print(f\"Mercari async search failed: {e}\")\n",
    "        return 0\n",
    "\n",
    "# Run the async function\n",
    "result_count = await fetch_mercari_async()\n",
    "print(f\"Total items fetched: {result_count}\")"
   ]
  },
  {
   "cell_type": "markdown",
   "metadata": {},
   "source": [
    "## Understanding Item Data Structure\n",
    "\n",
    "Each service returns items with a consistent data structure. Let's examine what information is available for each item:"
   ]
  },
  {
   "cell_type": "code",
   "execution_count": null,
   "metadata": {},
   "outputs": [],
   "source": [
    "import json\n",
    "\n",
    "try:\n",
    "    # Fetch a single item to examine its structure\n",
    "    sample_results = MercariService.get_search_results(params={\"keyword\": \"junya watanabe\", \"item_count\": 1})\n",
    "    \n",
    "    if sample_results:\n",
    "        sample_item = sample_results[0]\n",
    "        print(\"Sample item data structure:\")\n",
    "        print(json.dumps(sample_item, indent=2, ensure_ascii=False))\n",
    "            \n",
    "except Exception as e:\n",
    "    print(f\"Failed to fetch sample item: {e}\")"
   ]
  }
 ],
 "metadata": {
  "kernelspec": {
   "display_name": ".venv (3.13.1)",
   "language": "python",
   "name": "python3"
  },
  "language_info": {
   "codemirror_mode": {
    "name": "ipython",
    "version": 3
   },
   "file_extension": ".py",
   "mimetype": "text/x-python",
   "name": "python",
   "nbconvert_exporter": "python",
   "pygments_lexer": "ipython3",
   "version": "3.13.1"
  }
 },
 "nbformat": 4,
 "nbformat_minor": 2
}
